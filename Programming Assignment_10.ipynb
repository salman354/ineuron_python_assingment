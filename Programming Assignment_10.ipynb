{
 "cells": [
  {
   "cell_type": "markdown",
   "id": "0753e292",
   "metadata": {},
   "source": [
    "# Assignment 10 Solutions"
   ]
  },
  {
   "cell_type": "markdown",
   "id": "d6f96d38",
   "metadata": {},
   "source": [
    "#### 1.Write a Python Program to find sum of elements in a list ?"
   ]
  },
  {
   "cell_type": "code",
   "execution_count": null,
   "id": "1fbea5b2",
   "metadata": {},
   "outputs": [],
   "source": [
    "def sumofList():\n",
    "    ele = int(input('Enter the No of Entries in a List: '))\n",
    "    list = []\n",
    "    for itr in range(ele):\n",
    "        list.append(int(input('Enter a element: ')))\n",
    "    print(f'Sum of Elements: {sum(list)}')\n",
    "\n",
    "sumofList()"
   ]
  },
  {
   "cell_type": "markdown",
   "id": "35ff9c7c",
   "metadata": {},
   "source": [
    "###### 2.Write a Python Program to multiply all numbers in the list ?"
   ]
  },
  {
   "cell_type": "code",
   "execution_count": null,
   "id": "d77e77e6",
   "metadata": {},
   "outputs": [],
   "source": [
    "def mulofList():\n",
    "    ele = int(input('Enter the No of Entries in a List: '))\n",
    "    list = []\n",
    "    mul = 1\n",
    "    for itr in range(ele):\n",
    "        list.append(int(input('Enter a element: ')))\n",
    "    for ele1 in list:\n",
    "        mul = mul * ele1\n",
    "    print(mul)\n",
    "\n",
    "mulofList()"
   ]
  },
  {
   "cell_type": "markdown",
   "id": "0561967b",
   "metadata": {},
   "source": [
    "#### 3.Write a Python Program to find smallest number in the list ?"
   ]
  },
  {
   "cell_type": "code",
   "execution_count": null,
   "id": "3e9863eb",
   "metadata": {},
   "outputs": [],
   "source": [
    "def smallEleInList():\n",
    "    ele = int(input('Enter the No of elements in a list: '))\n",
    "    list = []\n",
    "    for i in range(ele):\n",
    "        list.append(int(input('Enter a Element: ')))\n",
    "    print(f'The Smallest Element in {list} is {sorted(list)[0]}')\n",
    "smallEleInList()"
   ]
  },
  {
   "cell_type": "markdown",
   "id": "0684d2e6",
   "metadata": {},
   "source": [
    "#### 4.Write a Python Program to find largest number in the list ?"
   ]
  },
  {
   "cell_type": "code",
   "execution_count": null,
   "id": "c1984a1c",
   "metadata": {},
   "outputs": [],
   "source": [
    "def largestEleInList():\n",
    "    ele = int(input('Enter the No of elements in a list: '))\n",
    "    list = []\n",
    "    for ele in range(ele):\n",
    "        list.append(int(input('Enter a Element: ')))\n",
    "    print(f'The Largest Element in {list} is {sorted(list, reverse=True)[0]}')\n",
    "\n",
    "largestEleInList()"
   ]
  },
  {
   "cell_type": "markdown",
   "id": "ef882ac4",
   "metadata": {},
   "source": [
    "#### 5.Write a Python Program to find second largest number in the list ?"
   ]
  },
  {
   "cell_type": "code",
   "execution_count": null,
   "id": "ca2c5e29",
   "metadata": {},
   "outputs": [],
   "source": [
    "def secondLargestEleInList():\n",
    "    ele = int(input('Enter the No of elements in a list: '))\n",
    "    list = []\n",
    "    for i in range(ele):\n",
    "        list.append(int(input('Enter a Element: ')))\n",
    "    print(f'The Second Largest Element in {list} is {sorted(list, reverse=True)[1]}')\n",
    "\n",
    "secondLargestEleInList()"
   ]
  },
  {
   "cell_type": "markdown",
   "id": "ee185d52",
   "metadata": {},
   "source": [
    "#### 6.Write a Python Program to find N largest elements in the list ?"
   ]
  },
  {
   "cell_type": "code",
   "execution_count": null,
   "id": "e2c518fa",
   "metadata": {},
   "outputs": [],
   "source": [
    "def nLargestEleInList(k):\n",
    "    ele = int(input('Enter the No of elements in a list: '))\n",
    "    list = []\n",
    "    for i in range(ele):\n",
    "        list.append(int(input('Enter a Element: ')))\n",
    "    print(f'The {k} Largest Element in {list} is {sorted(list, reverse=True)[0:k]}')\n",
    "\n",
    "nLargestEleInList(4)"
   ]
  },
  {
   "cell_type": "markdown",
   "id": "7f5a2b91",
   "metadata": {},
   "source": [
    "#### 7.Write a Python Program to find even numbers in the list ?"
   ]
  },
  {
   "cell_type": "code",
   "execution_count": null,
   "id": "e9b0d19a",
   "metadata": {},
   "outputs": [],
   "source": [
    "def evenNoInList():\n",
    "    ele = int(input('Enter the No of elements in a list: '))\n",
    "    list = []\n",
    "    even_list = []\n",
    "    for i in range(ele):\n",
    "        list.append(int(input('Enter a Element: ')))\n",
    "    for ele in list:\n",
    "        if ele%2 == 0:\n",
    "            even_list.append(ele)\n",
    "    print(f'The Even Elements in {list} are {even_list}')\n",
    "\n",
    "evenNoInList()"
   ]
  },
  {
   "cell_type": "markdown",
   "id": "a5d3f862",
   "metadata": {},
   "source": [
    "#### 8.Write a Python Program to find odd numbers in the list ?"
   ]
  },
  {
   "cell_type": "code",
   "execution_count": null,
   "id": "101d0718",
   "metadata": {},
   "outputs": [],
   "source": [
    "def oddNoInList():\n",
    "    ele = int(input('Enter the No of elements in a list: '))\n",
    "    list = []\n",
    "    odd_list = []\n",
    "    for i in range(ele):\n",
    "        list.append(int(input('Enter a Element: ')))\n",
    "    for i in list:\n",
    "        if i%2 != 0:\n",
    "            odd_list.append(i)\n",
    "    print(f'The Even Elements in {list} are {odd_list}')\n",
    "\n",
    "oddNoInList()"
   ]
  },
  {
   "cell_type": "markdown",
   "id": "f97fa7ea",
   "metadata": {},
   "source": [
    "#### 9.Write a Python Program to remove empty list from list ?"
   ]
  },
  {
   "cell_type": "code",
   "execution_count": null,
   "id": "98680a3b",
   "metadata": {},
   "outputs": [],
   "source": [
    " def checkEmptyList():\n",
    "    list = eval(input('Enter all elements of the list: '))\n",
    "    if [] in list:\n",
    "        print(f'There is an Empty list in {list} at Position {list.index([])}')\n",
    "        list.remove([])\n",
    "        print(f'The List after removing [] is {list}')\n",
    "    else:\n",
    "        print(f'There is no [] List in the list {list}')\n",
    "        \n",
    "checkEmptyList()"
   ]
  },
  {
   "cell_type": "markdown",
   "id": "1a5b1f91",
   "metadata": {},
   "source": [
    "#### 10.Write a Python Program to Cloning or Copying a list ?"
   ]
  },
  {
   "cell_type": "code",
   "execution_count": null,
   "id": "55882ca5",
   "metadata": {},
   "outputs": [],
   "source": [
    "import copy\n",
    "\n",
    "def cloneList():\n",
    "    list = eval(input('Enter a list'))\n",
    "    print(list, id(list))\n",
    "    cloned_list = list.copy()\n",
    "    print(cloned_list, id(cloned_list))\n",
    "\n",
    "cloneList()"
   ]
  },
  {
   "cell_type": "markdown",
   "id": "37e5e6bd",
   "metadata": {},
   "source": [
    "#### 11.Write a Python Program to count occurences of an element in a list ?"
   ]
  },
  {
   "cell_type": "code",
   "execution_count": null,
   "id": "8a5e7b52",
   "metadata": {},
   "outputs": [],
   "source": [
    "def checkOccurence():\n",
    "    list = eval(input('Enter the elements of the list: '))\n",
    "    num = eval(input('Enter the element to find: '))\n",
    "    count = 0\n",
    "    if num in list:\n",
    "        for ele in list:\n",
    "            if ele == num:\n",
    "                count = count+1\n",
    "    print(f'There are {count} occurences of {num} in {list}')\n",
    "    \n",
    "checkOccurence()"
   ]
  },
  {
   "cell_type": "code",
   "execution_count": null,
   "id": "64badf4e",
   "metadata": {},
   "outputs": [],
   "source": []
  }
 ],
 "metadata": {
  "kernelspec": {
   "display_name": "Python 3 (ipykernel)",
   "language": "python",
   "name": "python3"
  },
  "language_info": {
   "codemirror_mode": {
    "name": "ipython",
    "version": 3
   },
   "file_extension": ".py",
   "mimetype": "text/x-python",
   "name": "python",
   "nbconvert_exporter": "python",
   "pygments_lexer": "ipython3",
   "version": "3.9.7"
  }
 },
 "nbformat": 4,
 "nbformat_minor": 5
}
